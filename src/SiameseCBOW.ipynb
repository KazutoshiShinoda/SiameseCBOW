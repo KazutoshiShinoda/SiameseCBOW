{
 "cells": [
  {
   "cell_type": "code",
   "execution_count": 37,
   "metadata": {},
   "outputs": [],
   "source": [
    "from keras.layers import Input, Embedding, Dense, Lambda, merge, concatenate, Activation\n",
    "from keras.models import Model\n",
    "import keras.backend as K\n",
    "import tensorflow as tf"
   ]
  },
  {
   "cell_type": "markdown",
   "metadata": {},
   "source": [
    "## Model"
   ]
  },
  {
   "cell_type": "code",
   "execution_count": 38,
   "metadata": {},
   "outputs": [],
   "source": [
    "# Vocab size\n",
    "input_dim=1000\n",
    "# Vector length\n",
    "output_dim=512\n",
    "# Sequence length\n",
    "input_length=100\n",
    "# Positice sample\n",
    "n_positive=2\n",
    "# Negative sample\n",
    "n_negative=5"
   ]
  },
  {
   "cell_type": "code",
   "execution_count": 95,
   "metadata": {},
   "outputs": [],
   "source": [
    "def antirectifier(x):\n",
    "    sums = K.sum(x, axis=1, keepdims=False)\n",
    "    normalisers = tf.count_nonzero(\n",
    "        tf.count_nonzero(x, axis=2, keep_dims=False, dtype=tf.float32),\n",
    "        axis=1, keep_dims=True, dtype=tf.float32)\n",
    "    return sums / normalisers\n",
    "def antirectifier_output_shape(input_shape):\n",
    "    shape = list(input_shape)\n",
    "    assert len(shape) == 3  # only valid for 3D tensors\n",
    "    return (shape[0], shape[-1],)"
   ]
  },
  {
   "cell_type": "code",
   "execution_count": 135,
   "metadata": {},
   "outputs": [],
   "source": [
    "def cossim(x):\n",
    "    dot_products = K.batch_dot(x[0], x[1], axes=[1,1])\n",
    "    norm0 = tf.norm(x[0], ord=2, axis=1, keep_dims=True)\n",
    "    norm1 = tf.norm(x[1], ord=2, axis=1, keep_dims=True)\n",
    "    return dot_products / norm0 / norm1"
   ]
  },
  {
   "cell_type": "code",
   "execution_count": 136,
   "metadata": {},
   "outputs": [
    {
     "name": "stderr",
     "output_type": "stream",
     "text": [
      "/Users/Pikachu/.pyenv/versions/SiameseCBOW/lib/python3.4/site-packages/ipykernel_launcher.py:12: UserWarning: The `merge` function is deprecated and will be removed after 08/2017. Use instead layers from `keras.layers.merge`, e.g. `add`, `concatenate`, etc.\n",
      "  if sys.path[0] == '':\n",
      "/Users/Pikachu/.pyenv/versions/SiameseCBOW/lib/python3.4/site-packages/keras/legacy/layers.py:458: UserWarning: The `Merge` layer is deprecated and will be removed after 08/2017. Use instead layers from `keras.layers.merge`, e.g. `add`, `concatenate`, etc.\n",
      "  name=name)\n",
      "/Users/Pikachu/.pyenv/versions/SiameseCBOW/lib/python3.4/site-packages/ipykernel_launcher.py:13: UserWarning: The `merge` function is deprecated and will be removed after 08/2017. Use instead layers from `keras.layers.merge`, e.g. `add`, `concatenate`, etc.\n",
      "  del sys.path[0]\n"
     ]
    }
   ],
   "source": [
    "main_input = Input(shape=(input_length,), dtype='int32', name='main_input')\n",
    "pos_inputs = [Input(shape=(input_length,), dtype='int32', name='positive_input_{}'.format(i)) for i in range(n_positive)]\n",
    "neg_inputs = [Input(shape=(input_length,), dtype='int32', name='negative_input_{}'.format(i)) for i in range(n_negative)]\n",
    "embed = Embedding(output_dim=output_dim, input_dim=input_dim, input_length=input_length, name='embedding')\n",
    "s = embed(main_input)\n",
    "s_p = [embed(i) for i in pos_inputs]\n",
    "s_n = [embed(i) for i in neg_inputs]\n",
    "ave = Lambda(antirectifier, output_shape=antirectifier_output_shape, name='average')\n",
    "ave_s = ave(s)\n",
    "ave_s_p = [ave(i) for i in s_p]\n",
    "ave_s_n = [ave(i) for i in s_n]\n",
    "cos_p = [merge([ave_s, l], mode=lambda x: cossim(x), output_shape=(1,), name='p_cos_sim_{}'.format(i)) for i, l in enumerate(ave_s_p)]\n",
    "cos_n = [merge([ave_s, l], mode=lambda x: cossim(x), output_shape=(1,), name='n_cos_sim_{}'.format(i)) for i, l in enumerate(ave_s_n)]\n",
    "z = concatenate(cos_p + cos_n, axis=1, name='concatenate')\n",
    "pred = Activation('softmax')(z)\n",
    "model = Model(inputs=[main_input] + pos_inputs + neg_inputs, outputs=pred)\n",
    "model.compile(optimizer='adam', loss='categorical_crossentropy')"
   ]
  },
  {
   "cell_type": "code",
   "execution_count": 137,
   "metadata": {},
   "outputs": [],
   "source": [
    "import numpy as np\n",
    "x = [np.ones((10,100))]*(1+n_positive+n_negative)\n",
    "y = np.ones((10,(n_positive+n_negative)))"
   ]
  },
  {
   "cell_type": "code",
   "execution_count": 138,
   "metadata": {
    "scrolled": true
   },
   "outputs": [
    {
     "name": "stdout",
     "output_type": "stream",
     "text": [
      "Epoch 1/1\n",
      "10/10 [==============================] - 2s 155ms/step - loss: 13.6214\n"
     ]
    },
    {
     "data": {
      "text/plain": [
       "<keras.callbacks.History at 0x11fc6a9e8>"
      ]
     },
     "execution_count": 138,
     "metadata": {},
     "output_type": "execute_result"
    }
   ],
   "source": [
    "model.fit(x,y,epochs=1)"
   ]
  },
  {
   "cell_type": "code",
   "execution_count": 140,
   "metadata": {},
   "outputs": [
    {
     "name": "stdout",
     "output_type": "stream",
     "text": [
      "__________________________________________________________________________________________________\n",
      "Layer (type)                    Output Shape         Param #     Connected to                     \n",
      "==================================================================================================\n",
      "main_input (InputLayer)         (None, 100)          0                                            \n",
      "__________________________________________________________________________________________________\n",
      "positive_input_0 (InputLayer)   (None, 100)          0                                            \n",
      "__________________________________________________________________________________________________\n",
      "positive_input_1 (InputLayer)   (None, 100)          0                                            \n",
      "__________________________________________________________________________________________________\n",
      "negative_input_0 (InputLayer)   (None, 100)          0                                            \n",
      "__________________________________________________________________________________________________\n",
      "negative_input_1 (InputLayer)   (None, 100)          0                                            \n",
      "__________________________________________________________________________________________________\n",
      "negative_input_2 (InputLayer)   (None, 100)          0                                            \n",
      "__________________________________________________________________________________________________\n",
      "negative_input_3 (InputLayer)   (None, 100)          0                                            \n",
      "__________________________________________________________________________________________________\n",
      "negative_input_4 (InputLayer)   (None, 100)          0                                            \n",
      "__________________________________________________________________________________________________\n",
      "embedding (Embedding)           (None, 100, 512)     512000      main_input[0][0]                 \n",
      "                                                                 positive_input_0[0][0]           \n",
      "                                                                 positive_input_1[0][0]           \n",
      "                                                                 negative_input_0[0][0]           \n",
      "                                                                 negative_input_1[0][0]           \n",
      "                                                                 negative_input_2[0][0]           \n",
      "                                                                 negative_input_3[0][0]           \n",
      "                                                                 negative_input_4[0][0]           \n",
      "__________________________________________________________________________________________________\n",
      "average (Lambda)                (None, 512)          0           embedding[0][0]                  \n",
      "                                                                 embedding[1][0]                  \n",
      "                                                                 embedding[2][0]                  \n",
      "                                                                 embedding[3][0]                  \n",
      "                                                                 embedding[4][0]                  \n",
      "                                                                 embedding[5][0]                  \n",
      "                                                                 embedding[6][0]                  \n",
      "                                                                 embedding[7][0]                  \n",
      "__________________________________________________________________________________________________\n",
      "p_cos_sim_0 (Merge)             (None, 1)            0           average[0][0]                    \n",
      "                                                                 average[1][0]                    \n",
      "__________________________________________________________________________________________________\n",
      "p_cos_sim_1 (Merge)             (None, 1)            0           average[0][0]                    \n",
      "                                                                 average[2][0]                    \n",
      "__________________________________________________________________________________________________\n",
      "n_cos_sim_0 (Merge)             (None, 1)            0           average[0][0]                    \n",
      "                                                                 average[3][0]                    \n",
      "__________________________________________________________________________________________________\n",
      "n_cos_sim_1 (Merge)             (None, 1)            0           average[0][0]                    \n",
      "                                                                 average[4][0]                    \n",
      "__________________________________________________________________________________________________\n",
      "n_cos_sim_2 (Merge)             (None, 1)            0           average[0][0]                    \n",
      "                                                                 average[5][0]                    \n",
      "__________________________________________________________________________________________________\n",
      "n_cos_sim_3 (Merge)             (None, 1)            0           average[0][0]                    \n",
      "                                                                 average[6][0]                    \n",
      "__________________________________________________________________________________________________\n",
      "n_cos_sim_4 (Merge)             (None, 1)            0           average[0][0]                    \n",
      "                                                                 average[7][0]                    \n",
      "__________________________________________________________________________________________________\n",
      "concatenate (Concatenate)       (None, 7)            0           p_cos_sim_0[0][0]                \n",
      "                                                                 p_cos_sim_1[0][0]                \n",
      "                                                                 n_cos_sim_0[0][0]                \n",
      "                                                                 n_cos_sim_1[0][0]                \n",
      "                                                                 n_cos_sim_2[0][0]                \n",
      "                                                                 n_cos_sim_3[0][0]                \n",
      "                                                                 n_cos_sim_4[0][0]                \n",
      "__________________________________________________________________________________________________\n",
      "activation_26 (Activation)      (None, 7)            0           concatenate[0][0]                \n",
      "==================================================================================================\n",
      "Total params: 512,000\n",
      "Trainable params: 512,000\n",
      "Non-trainable params: 0\n",
      "__________________________________________________________________________________________________\n"
     ]
    }
   ],
   "source": [
    "model.summary()"
   ]
  }
 ],
 "metadata": {
  "kernelspec": {
   "display_name": "Python 3",
   "language": "python",
   "name": "python3"
  },
  "language_info": {
   "codemirror_mode": {
    "name": "ipython",
    "version": 3
   },
   "file_extension": ".py",
   "mimetype": "text/x-python",
   "name": "python",
   "nbconvert_exporter": "python",
   "pygments_lexer": "ipython3",
   "version": "3.4.3"
  }
 },
 "nbformat": 4,
 "nbformat_minor": 2
}
